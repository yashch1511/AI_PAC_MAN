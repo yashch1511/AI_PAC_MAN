{
  "cells": [
    {
      "cell_type": "markdown",
      "metadata": {
        "id": "view-in-github",
        "colab_type": "text"
      },
      "source": [
        "<a href=\"https://colab.research.google.com/github/yashch1511/AI_PAC_MAN/blob/main/Deep_Convolutional_Q_Learning_for_Pac_Man_Complete_Code.ipynb\" target=\"_parent\"><img src=\"https://colab.research.google.com/assets/colab-badge.svg\" alt=\"Open In Colab\"/></a>"
      ]
    },
    {
      "cell_type": "markdown",
      "source": [
        "# Deep Convolutional Q-Learning for Pac-Man"
      ],
      "metadata": {
        "id": "EAiHVEoWHy_D"
      }
    },
    {
      "cell_type": "markdown",
      "source": [
        "## Part 0 - Installing the required packages and importing the libraries"
      ],
      "metadata": {
        "id": "tjO1aK3Ddjs5"
      }
    },
    {
      "cell_type": "markdown",
      "source": [
        "### Installing Gymnasium"
      ],
      "metadata": {
        "id": "NwdRB-ZLdrAV"
      }
    },
    {
      "cell_type": "code",
      "execution_count": 1,
      "metadata": {
        "id": "dbnq3XpoKa_7",
        "colab": {
          "base_uri": "https://localhost:8080/"
        },
        "outputId": "5bef0251-001e-46ee-8ff1-14d96090fed5"
      },
      "outputs": [
        {
          "output_type": "stream",
          "name": "stdout",
          "text": [
            "Requirement already satisfied: gymnasium[accept-rom-license,atari] in /usr/local/lib/python3.11/dist-packages (1.2.0)\n",
            "\u001b[33mWARNING: gymnasium 1.2.0 does not provide the extra 'accept-rom-license'\u001b[0m\u001b[33m\n",
            "\u001b[0mRequirement already satisfied: numpy>=1.21.0 in /usr/local/lib/python3.11/dist-packages (from gymnasium[accept-rom-license,atari]) (2.0.2)\n",
            "Requirement already satisfied: cloudpickle>=1.2.0 in /usr/local/lib/python3.11/dist-packages (from gymnasium[accept-rom-license,atari]) (3.1.1)\n",
            "Requirement already satisfied: typing-extensions>=4.3.0 in /usr/local/lib/python3.11/dist-packages (from gymnasium[accept-rom-license,atari]) (4.14.1)\n",
            "Requirement already satisfied: farama-notifications>=0.0.1 in /usr/local/lib/python3.11/dist-packages (from gymnasium[accept-rom-license,atari]) (0.0.4)\n",
            "Requirement already satisfied: ale_py>=0.9 in /usr/local/lib/python3.11/dist-packages (from gymnasium[accept-rom-license,atari]) (0.11.2)\n",
            "Reading package lists... Done\n",
            "Building dependency tree... Done\n",
            "Reading state information... Done\n",
            "The following additional packages will be installed:\n",
            "  swig4.0\n",
            "Suggested packages:\n",
            "  swig-doc swig-examples swig4.0-examples swig4.0-doc\n",
            "The following NEW packages will be installed:\n",
            "  swig swig4.0\n",
            "0 upgraded, 2 newly installed, 0 to remove and 35 not upgraded.\n",
            "Need to get 1,116 kB of archives.\n",
            "After this operation, 5,542 kB of additional disk space will be used.\n",
            "Get:1 http://archive.ubuntu.com/ubuntu jammy/universe amd64 swig4.0 amd64 4.0.2-1ubuntu1 [1,110 kB]\n",
            "Get:2 http://archive.ubuntu.com/ubuntu jammy/universe amd64 swig all 4.0.2-1ubuntu1 [5,632 B]\n",
            "Fetched 1,116 kB in 1s (840 kB/s)\n",
            "Selecting previously unselected package swig4.0.\n",
            "(Reading database ... 126380 files and directories currently installed.)\n",
            "Preparing to unpack .../swig4.0_4.0.2-1ubuntu1_amd64.deb ...\n",
            "Unpacking swig4.0 (4.0.2-1ubuntu1) ...\n",
            "Selecting previously unselected package swig.\n",
            "Preparing to unpack .../swig_4.0.2-1ubuntu1_all.deb ...\n",
            "Unpacking swig (4.0.2-1ubuntu1) ...\n",
            "Setting up swig4.0 (4.0.2-1ubuntu1) ...\n",
            "Setting up swig (4.0.2-1ubuntu1) ...\n",
            "Processing triggers for man-db (2.10.2-1) ...\n",
            "Requirement already satisfied: gymnasium[box2d] in /usr/local/lib/python3.11/dist-packages (1.2.0)\n",
            "Requirement already satisfied: numpy>=1.21.0 in /usr/local/lib/python3.11/dist-packages (from gymnasium[box2d]) (2.0.2)\n",
            "Requirement already satisfied: cloudpickle>=1.2.0 in /usr/local/lib/python3.11/dist-packages (from gymnasium[box2d]) (3.1.1)\n",
            "Requirement already satisfied: typing-extensions>=4.3.0 in /usr/local/lib/python3.11/dist-packages (from gymnasium[box2d]) (4.14.1)\n",
            "Requirement already satisfied: farama-notifications>=0.0.1 in /usr/local/lib/python3.11/dist-packages (from gymnasium[box2d]) (0.0.4)\n",
            "Collecting box2d-py==2.3.5 (from gymnasium[box2d])\n",
            "  Downloading box2d-py-2.3.5.tar.gz (374 kB)\n",
            "\u001b[2K     \u001b[90m━━━━━━━━━━━━━━━━━━━━━━━━━━━━━━━━━━━━━━\u001b[0m \u001b[32m374.4/374.4 kB\u001b[0m \u001b[31m11.4 MB/s\u001b[0m eta \u001b[36m0:00:00\u001b[0m\n",
            "\u001b[?25h  Preparing metadata (setup.py) ... \u001b[?25l\u001b[?25hdone\n",
            "Requirement already satisfied: pygame>=2.1.3 in /usr/local/lib/python3.11/dist-packages (from gymnasium[box2d]) (2.6.1)\n",
            "Collecting swig==4.* (from gymnasium[box2d])\n",
            "  Downloading swig-4.3.1-py3-none-manylinux_2_12_x86_64.manylinux2010_x86_64.whl.metadata (3.5 kB)\n",
            "Downloading swig-4.3.1-py3-none-manylinux_2_12_x86_64.manylinux2010_x86_64.whl (1.9 MB)\n",
            "\u001b[2K   \u001b[90m━━━━━━━━━━━━━━━━━━━━━━━━━━━━━━━━━━━━━━━━\u001b[0m \u001b[32m1.9/1.9 MB\u001b[0m \u001b[31m73.7 MB/s\u001b[0m eta \u001b[36m0:00:00\u001b[0m\n",
            "\u001b[?25hBuilding wheels for collected packages: box2d-py\n",
            "  Building wheel for box2d-py (setup.py) ... \u001b[?25l\u001b[?25hdone\n",
            "  Created wheel for box2d-py: filename=box2d_py-2.3.5-cp311-cp311-linux_x86_64.whl size=2351188 sha256=451098abc5ceb8f8e68a709bc164f76ce65e557e2cade25858508aa9c2c28e25\n",
            "  Stored in directory: /root/.cache/pip/wheels/ab/f1/0c/d56f4a2bdd12bae0a0693ec33f2f0daadb5eb9753c78fa5308\n",
            "Successfully built box2d-py\n",
            "Installing collected packages: swig, box2d-py\n",
            "Successfully installed box2d-py-2.3.5 swig-4.3.1\n"
          ]
        }
      ],
      "source": [
        "\n",
        "!pip install --upgrade \"gymnasium[atari, accept-rom-license]\"\n",
        "!apt-get install -y swig\n",
        "!pip install gymnasium[box2d]"
      ]
    },
    {
      "cell_type": "code",
      "source": [
        "import gymnasium as gym\n",
        "import ale_py\n",
        "\n",
        "print(\"Gymnasium version:\", gym.__version__)\n",
        "print(\"ALE-py version:\", ale_py.__version__)"
      ],
      "metadata": {
        "colab": {
          "base_uri": "https://localhost:8080/"
        },
        "id": "cNUa_mshPjys",
        "outputId": "42b74fbf-85e9-494b-f208-0d7460c6b37c"
      },
      "execution_count": 7,
      "outputs": [
        {
          "output_type": "stream",
          "name": "stdout",
          "text": [
            "Gymnasium version: 1.2.0\n",
            "ALE-py version: 0.11.2\n"
          ]
        }
      ]
    },
    {
      "cell_type": "markdown",
      "source": [
        "### Importing the libraries"
      ],
      "metadata": {
        "id": "H-wes4LZdxdd"
      }
    },
    {
      "cell_type": "code",
      "execution_count": 8,
      "metadata": {
        "id": "Ho_25-9_9qnu"
      },
      "outputs": [],
      "source": [
        "import os\n",
        "import random\n",
        "import numpy as np\n",
        "import torch\n",
        "import torch.nn as nn\n",
        "import torch.optim as optim\n",
        "import torch.nn.functional as F\n",
        "from collections import deque\n",
        "from torch.utils.data import DataLoader, TensorDataset"
      ]
    },
    {
      "cell_type": "markdown",
      "source": [
        "## Part 1 - Building the AI"
      ],
      "metadata": {
        "id": "m7wa0ft8e3M_"
      }
    },
    {
      "cell_type": "markdown",
      "source": [
        "### Creating the architecture of the Neural Network"
      ],
      "metadata": {
        "id": "dlYVpVdHe-i6"
      }
    },
    {
      "cell_type": "code",
      "source": [
        "class Network(nn.Module):\n",
        "\n",
        "  def __init__(self, action_size, seed = 42):\n",
        "    super(Network, self).__init__()\n",
        "    self.seed = torch.manual_seed(seed)\n",
        "    self.conv1 = nn.Conv2d(3, 32, kernel_size = 8, stride = 4)\n",
        "    self.bn1 = nn.BatchNorm2d(32)\n",
        "    self.conv2 = nn.Conv2d(32, 64, kernel_size = 4, stride = 2)\n",
        "    self.bn2 = nn.BatchNorm2d(64)\n",
        "    self.conv3 = nn.Conv2d(64, 64, kernel_size = 3, stride = 1)\n",
        "    self.bn3 = nn.BatchNorm2d(64)\n",
        "    self.conv4 = nn.Conv2d(64, 128, kernel_size = 3, stride = 1)\n",
        "    self.bn4 = nn.BatchNorm2d(128)\n",
        "    self.fc1 = nn.Linear(10 * 10 * 128, 512)\n",
        "    self.fc2 = nn.Linear(512, 256)\n",
        "    self.fc3 = nn.Linear(256, action_size)\n",
        "\n",
        "  def forward(self, state):\n",
        "    x = F.relu(self.bn1(self.conv1(state)))\n",
        "    x = F.relu(self.bn2(self.conv2(x)))\n",
        "    x = F.relu(self.bn3(self.conv3(x)))\n",
        "    x = F.relu(self.bn4(self.conv4(x)))\n",
        "    x = x.view(x.size(0), -1)\n",
        "    x = F.relu(self.fc1(x))\n",
        "    x = F.relu(self.fc2(x))\n",
        "    return self.fc3(x)"
      ],
      "metadata": {
        "id": "4ZW9ybp2S-op"
      },
      "execution_count": 9,
      "outputs": []
    },
    {
      "cell_type": "markdown",
      "source": [
        "## Part 2 - Training the AI"
      ],
      "metadata": {
        "id": "rUvCfE_mhwo2"
      }
    },
    {
      "cell_type": "markdown",
      "source": [
        "### Setting up the environment"
      ],
      "metadata": {
        "id": "WWCDPF22lkwc"
      }
    },
    {
      "cell_type": "code",
      "source": [
        "import gymnasium as gym\n",
        "\n",
        "env = gym.make(\n",
        "    \"ALE/MsPacman-v5\",\n",
        "    frameskip=4,                  # equivalent to Deterministic frame skipping\n",
        "    repeat_action_probability=0.25,\n",
        "    full_action_space=False       # reduced action space, like v0 did\n",
        ")\n",
        "\n",
        "state_shape = env.observation_space.shape\n",
        "state_size = env.observation_space.shape[0]\n",
        "number_actions = env.action_space.n\n",
        "print('State shape: ', state_shape)\n",
        "print('State size: ', state_size)\n",
        "print('Number of actions: ', number_actions)"
      ],
      "metadata": {
        "colab": {
          "base_uri": "https://localhost:8080/"
        },
        "id": "qYLnz2Z6PqeU",
        "outputId": "07baa5ee-fc96-48fb-8de7-b37d75c4b771"
      },
      "execution_count": 10,
      "outputs": [
        {
          "output_type": "stream",
          "name": "stdout",
          "text": [
            "State shape:  (210, 160, 3)\n",
            "State size:  210\n",
            "Number of actions:  9\n"
          ]
        }
      ]
    },
    {
      "cell_type": "markdown",
      "source": [
        "### Initializing the hyperparameters"
      ],
      "metadata": {
        "id": "Bx6IdX3ciDqH"
      }
    },
    {
      "cell_type": "code",
      "source": [
        "learning_rate = 5e-4\n",
        "minibatch_size = 64\n",
        "discount_factor = 0.99"
      ],
      "metadata": {
        "id": "pQHWLxOwrb0J"
      },
      "execution_count": 5,
      "outputs": []
    },
    {
      "cell_type": "markdown",
      "source": [
        "### Preprocessing the frames"
      ],
      "metadata": {
        "id": "U2bDShIEkA5V"
      }
    },
    {
      "cell_type": "code",
      "source": [
        "from PIL import Image\n",
        "from torchvision import transforms\n",
        "\n",
        "def preprocess_frame(frame):\n",
        "  frame = Image.fromarray(frame)\n",
        "  preprocess = transforms.Compose([transforms.Resize((128, 128)), transforms.ToTensor()])\n",
        "  return preprocess(frame).unsqueeze(0)"
      ],
      "metadata": {
        "id": "VporQhgMDygL"
      },
      "execution_count": 2,
      "outputs": []
    },
    {
      "cell_type": "markdown",
      "source": [
        "### Implementing the DCQN class"
      ],
      "metadata": {
        "id": "imMdSO-HAWra"
      }
    },
    {
      "cell_type": "code",
      "source": [
        "class Agent():\n",
        "\n",
        "  def __init__(self, action_size):\n",
        "    self.device = torch.device(\"cuda:0\" if torch.cuda.is_available() else \"cpu\")\n",
        "    self.action_size = action_size\n",
        "    self.local_qnetwork = Network(action_size).to(self.device)\n",
        "    self.target_qnetwork = Network(action_size).to(self.device)\n",
        "    self.optimizer = optim.Adam(self.local_qnetwork.parameters(), lr = learning_rate)\n",
        "    self.memory = deque(maxlen = 10000)\n",
        "\n",
        "  def step(self, state, action, reward, next_state, done):\n",
        "    state = preprocess_frame(state)\n",
        "    next_state = preprocess_frame(next_state)\n",
        "    self.memory.append((state, action, reward, next_state, done))\n",
        "    if len(self.memory) > minibatch_size:\n",
        "      experiences = random.sample(self.memory, k = minibatch_size)\n",
        "      self.learn(experiences, discount_factor)\n",
        "\n",
        "  def act(self, state, epsilon = 0.):\n",
        "    state = preprocess_frame(state).to(self.device)\n",
        "    self.local_qnetwork.eval()\n",
        "    with torch.no_grad():\n",
        "      action_values = self.local_qnetwork(state)\n",
        "    self.local_qnetwork.train()\n",
        "    if random.random() > epsilon:\n",
        "      return np.argmax(action_values.cpu().data.numpy())\n",
        "    else:\n",
        "      return random.choice(np.arange(self.action_size))\n",
        "\n",
        "  def learn(self, experiences, discount_factor):\n",
        "    states, actions, rewards, next_states, dones = zip(*experiences)\n",
        "    states = torch.from_numpy(np.vstack(states)).float().to(self.device)\n",
        "    actions = torch.from_numpy(np.vstack(actions)).long().to(self.device)\n",
        "    rewards = torch.from_numpy(np.vstack(rewards)).float().to(self.device)\n",
        "    next_states = torch.from_numpy(np.vstack(next_states)).float().to(self.device)\n",
        "    dones = torch.from_numpy(np.vstack(dones).astype(np.uint8)).float().to(self.device)\n",
        "    next_q_targets = self.target_qnetwork(next_states).detach().max(1)[0].unsqueeze(1)\n",
        "    q_targets = rewards + discount_factor * next_q_targets * (1 - dones)\n",
        "    q_expected = self.local_qnetwork(states).gather(1, actions)\n",
        "    loss = F.mse_loss(q_expected, q_targets)\n",
        "    self.optimizer.zero_grad()\n",
        "    loss.backward()\n",
        "    self.optimizer.step()"
      ],
      "metadata": {
        "id": "N7dwS2q2wupJ"
      },
      "execution_count": 3,
      "outputs": []
    },
    {
      "cell_type": "markdown",
      "source": [
        "### Initializing the DCQN agent"
      ],
      "metadata": {
        "id": "yUg95iBpAwII"
      }
    },
    {
      "cell_type": "code",
      "source": [
        "agent = Agent(number_actions)"
      ],
      "metadata": {
        "id": "eJJB1Gr6IKnC"
      },
      "execution_count": 11,
      "outputs": []
    },
    {
      "cell_type": "markdown",
      "source": [
        "### Training the DCQN agent"
      ],
      "metadata": {
        "id": "CK6Zt_gNmHvm"
      }
    },
    {
      "cell_type": "code",
      "source": [
        "number_episodes = 2000\n",
        "maximum_number_timesteps_per_episode = 10000\n",
        "epsilon_starting_value  = 1.0\n",
        "epsilon_ending_value  = 0.01\n",
        "epsilon_decay_value  = 0.995\n",
        "epsilon = epsilon_starting_value\n",
        "scores_on_100_episodes = deque(maxlen = 100)\n",
        "\n",
        "for episode in range(1, number_episodes + 1):\n",
        "  state, _ = env.reset()\n",
        "  score = 0\n",
        "  for t in range(maximum_number_timesteps_per_episode):\n",
        "    action = agent.act(state, epsilon)\n",
        "    next_state, reward, done, _, _ = env.step(action)\n",
        "    agent.step(state, action, reward, next_state, done)\n",
        "    state = next_state\n",
        "    score += reward\n",
        "    if done:\n",
        "      break\n",
        "  scores_on_100_episodes.append(score)\n",
        "  epsilon = max(epsilon_ending_value, epsilon_decay_value * epsilon)\n",
        "  print('\\rEpisode {}\\tAverage Score: {:.2f}'.format(episode, np.mean(scores_on_100_episodes)), end = \"\")\n",
        "  if episode % 100 == 0:\n",
        "    print('\\rEpisode {}\\tAverage Score: {:.2f}'.format(episode, np.mean(scores_on_100_episodes)))\n",
        "  if np.mean(scores_on_100_episodes) >= 500.0:\n",
        "    print('\\nEnvironment solved in {:d} episodes!\\tAverage Score: {:.2f}'.format(episode - 100, np.mean(scores_on_100_episodes)))\n",
        "    torch.save(agent.local_qnetwork.state_dict(), 'checkpoint.pth')\n",
        "    break"
      ],
      "metadata": {
        "id": "XvBh4TLjIfz2",
        "colab": {
          "base_uri": "https://localhost:8080/"
        },
        "outputId": "bbb270fc-f5ee-45b2-fb82-868e11bf8bdf"
      },
      "execution_count": 12,
      "outputs": [
        {
          "output_type": "stream",
          "name": "stdout",
          "text": [
            "Episode 100\tAverage Score: 329.70\n",
            "Episode 200\tAverage Score: 374.50\n",
            "Episode 300\tAverage Score: 486.70\n",
            "Episode 316\tAverage Score: 500.40\n",
            "Environment solved in 216 episodes!\tAverage Score: 500.40\n"
          ]
        }
      ]
    },
    {
      "cell_type": "markdown",
      "source": [
        "## Part 3 - Visualizing the results"
      ],
      "metadata": {
        "id": "-0WhhBV8nQdf"
      }
    },
    {
      "cell_type": "code",
      "execution_count": 14,
      "metadata": {
        "id": "cb9nVvU2Okhk",
        "colab": {
          "base_uri": "https://localhost:8080/",
          "height": 459
        },
        "outputId": "f96ac1ba-529b-4e8b-9b8f-435504c6d7e8"
      },
      "outputs": [
        {
          "output_type": "stream",
          "name": "stderr",
          "text": [
            "WARNING:imageio_ffmpeg:IMAGEIO FFMPEG_WRITER WARNING: input image is not divisible by macro_block_size=16, resizing from (160, 210) to (160, 224) to ensure video compatibility with most codecs and players. To prevent resizing, make your input image divisible by the macro_block_size or set the macro_block_size to 1 (risking incompatibility).\n"
          ]
        },
        {
          "output_type": "display_data",
          "data": {
            "text/plain": [
              "<IPython.core.display.HTML object>"
            ],
            "text/html": [
              "<video alt=\"test\" autoplay\n",
              "                loop controls style=\"height: 400px;\">\n",
              "                <source src=\"data:video/mp4;base64,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\" type=\"video/mp4\" />\n",
              "             </video>"
            ]
          },
          "metadata": {}
        }
      ],
      "source": [
        "import glob\n",
        "import io\n",
        "import base64\n",
        "import imageio\n",
        "from IPython.display import HTML, display\n",
        "from gym.wrappers.monitoring.video_recorder import VideoRecorder\n",
        "\n",
        "def show_video_of_model(agent, env_name):\n",
        "    env = gym.make(env_name, render_mode='rgb_array')\n",
        "    state, _ = env.reset()\n",
        "    done = False\n",
        "    frames = []\n",
        "    while not done:\n",
        "        frame = env.render()\n",
        "        frames.append(frame)\n",
        "        action = agent.act(state)\n",
        "        state, reward, done, _, _ = env.step(action)\n",
        "    env.close()\n",
        "    imageio.mimsave('video.mp4', frames, fps=30)\n",
        "\n",
        "show_video_of_model(agent, 'ALE/MsPacman-v5')\n",
        "\n",
        "\n",
        "def show_video():\n",
        "    mp4list = glob.glob('*.mp4')\n",
        "    if len(mp4list) > 0:\n",
        "        mp4 = mp4list[0]\n",
        "        video = io.open(mp4, 'r+b').read()\n",
        "        encoded = base64.b64encode(video)\n",
        "        display(HTML(data='''<video alt=\"test\" autoplay\n",
        "                loop controls style=\"height: 400px;\">\n",
        "                <source src=\"data:video/mp4;base64,{0}\" type=\"video/mp4\" />\n",
        "             </video>'''.format(encoded.decode('ascii'))))\n",
        "    else:\n",
        "        print(\"Could not find video\")\n",
        "\n",
        "show_video()"
      ]
    }
  ],
  "metadata": {
    "colab": {
      "provenance": [],
      "gpuType": "T4",
      "include_colab_link": true
    },
    "kernelspec": {
      "display_name": "Python 3",
      "name": "python3"
    },
    "language_info": {
      "name": "python"
    },
    "accelerator": "GPU"
  },
  "nbformat": 4,
  "nbformat_minor": 0
}